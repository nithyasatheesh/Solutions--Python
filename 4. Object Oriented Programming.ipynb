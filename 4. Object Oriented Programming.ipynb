{
 "cells": [
  {
   "cell_type": "markdown",
   "id": "1a53941d",
   "metadata": {},
   "source": [
    "### Object Oriented Programming\n",
    "\n",
    "- Class\n",
    "\n",
    "- Objects\n",
    "\n",
    "- Inheritance\n"
   ]
  },
  {
   "cell_type": "raw",
   "id": "5bd6f2b6",
   "metadata": {},
   "source": [
    "OOP:\n",
    "    Class\n",
    "       object\n",
    "            Instance\n",
    "        Methods\n",
    "                class methos __init__() intialstage of the object by asigning the values of the \n",
    "                                           object properties.\n",
    "                                self parameter-->instance automatically passed into self parameter\n",
    "                                                so that new attributes can be defined on the object"
   ]
  },
  {
   "cell_type": "raw",
   "id": "e3b04853",
   "metadata": {},
   "source": [
    "A blueprint for a house design is like a class description.\n",
    "All the houses built from that blueprint are objects of that class. \n",
    "A given house is an instance."
   ]
  },
  {
   "cell_type": "markdown",
   "id": "350225f2",
   "metadata": {},
   "source": [
    "#### Classes \n",
    "\n",
    "class--> collection of objects.\n",
    "\n",
    "classes are created by keyword'class'\n",
    "\n",
    "attributes are the variables that belong to a class\n",
    "\n",
    "attributes are always public and can be accessed using the dot(.)operator "
   ]
  },
  {
   "cell_type": "code",
   "execution_count": 1,
   "id": "4ab86dd2",
   "metadata": {},
   "outputs": [],
   "source": [
    "# create an empty class \n",
    "class Dog:\n",
    "    pass"
   ]
  },
  {
   "cell_type": "code",
   "execution_count": 2,
   "id": "4a66d4f7",
   "metadata": {},
   "outputs": [],
   "source": [
    "class Dog:\n",
    "    def __init__(self,name,age):\n",
    "        self.name=name\n",
    "        self.age=age"
   ]
  },
  {
   "cell_type": "code",
   "execution_count": 3,
   "id": "9eba0159",
   "metadata": {},
   "outputs": [
    {
     "data": {
      "text/plain": [
       "<__main__.Dog at 0x2a1fadac790>"
      ]
     },
     "execution_count": 3,
     "metadata": {},
     "output_type": "execute_result"
    }
   ],
   "source": [
    "Dog('mila',34)"
   ]
  },
  {
   "cell_type": "code",
   "execution_count": 4,
   "id": "d5aa71cd",
   "metadata": {},
   "outputs": [
    {
     "data": {
      "text/plain": [
       "'mila'"
      ]
     },
     "execution_count": 4,
     "metadata": {},
     "output_type": "execute_result"
    }
   ],
   "source": [
    "# After creating the Dog instances, access their instance attributes using dot.\n",
    "x=Dog('mila',34)\n",
    "x.name"
   ]
  },
  {
   "cell_type": "raw",
   "id": "f5dcdce5",
   "metadata": {},
   "source": [
    "Instance attributes: Attributes created in .__init__() are called instance attributes\n",
    "                    An instance attribute’s value is specific to a particular instance of the class.\n",
    "class attribtues:  attributes that have the same value for all class instances. You can define a class                   attribute by assigning a value to a variable name outside of .__init__()."
   ]
  },
  {
   "cell_type": "markdown",
   "id": "0913d2e5",
   "metadata": {},
   "source": [
    "Note: Use class attributes to define properties that should have the same value for every class instance. Use instance attributes for properties that vary from one instance to another."
   ]
  },
  {
   "cell_type": "code",
   "execution_count": 5,
   "id": "ccc96fb2",
   "metadata": {},
   "outputs": [],
   "source": [
    "#Dog class has a class attribute called breed with the value \"Labrador\":\n",
    "class Dog:\n",
    "    # Class attribute\n",
    "    breed=\"Labrador\"\n",
    "    def __init__(self,name,age):                  # class method            \n",
    "        self.name=name\n",
    "        self.age=age"
   ]
  },
  {
   "cell_type": "code",
   "execution_count": 6,
   "id": "a11fc6ca",
   "metadata": {},
   "outputs": [
    {
     "data": {
      "text/plain": [
       "'Labrador'"
      ]
     },
     "execution_count": 6,
     "metadata": {},
     "output_type": "execute_result"
    }
   ],
   "source": [
    "Dog.breed"
   ]
  },
  {
   "cell_type": "code",
   "execution_count": 7,
   "id": "c6793677",
   "metadata": {},
   "outputs": [],
   "source": [
    "class Dog:\n",
    "    # Class attribute\n",
    "    breed=\"Labrador\"\n",
    "    color=\"Black\" \n",
    "    def __init__(self,name,age):                  # class method            \n",
    "        self.name=name\n",
    "        self.age=age "
   ]
  },
  {
   "cell_type": "code",
   "execution_count": 8,
   "id": "4d181512",
   "metadata": {},
   "outputs": [
    {
     "data": {
      "text/plain": [
       "'Black'"
      ]
     },
     "execution_count": 8,
     "metadata": {},
     "output_type": "execute_result"
    }
   ],
   "source": [
    "Dog.color"
   ]
  },
  {
   "cell_type": "code",
   "execution_count": 9,
   "id": "428552cb",
   "metadata": {},
   "outputs": [
    {
     "data": {
      "text/plain": [
       "'Black'"
      ]
     },
     "execution_count": 9,
     "metadata": {},
     "output_type": "execute_result"
    }
   ],
   "source": [
    "dog1=Dog(\"tom\",3)\n",
    "dog1.color"
   ]
  },
  {
   "cell_type": "code",
   "execution_count": 10,
   "id": "bffcf58d",
   "metadata": {},
   "outputs": [
    {
     "data": {
      "text/plain": [
       "4"
      ]
     },
     "execution_count": 10,
     "metadata": {},
     "output_type": "execute_result"
    }
   ],
   "source": [
    "# do changes in the attributes\n",
    "dog1.age=4\n",
    "dog1.age"
   ]
  },
  {
   "cell_type": "code",
   "execution_count": 11,
   "id": "24adf622",
   "metadata": {},
   "outputs": [],
   "source": [
    "class Dog:\n",
    "    # Class attribute\n",
    "    breed=\"Labrador\"\n",
    "    color=\"Black\"\n",
    "    def __init__(self,name,age):                  # class method            \n",
    "        self.name=name\n",
    "        self.age=age\n",
    "    #instance method\n",
    "    def description(self):\n",
    "        return f'{self.name}, is {self.age} years old'"
   ]
  },
  {
   "cell_type": "code",
   "execution_count": 12,
   "id": "f99d1af3",
   "metadata": {},
   "outputs": [
    {
     "data": {
      "text/plain": [
       "'tommy'"
      ]
     },
     "execution_count": 12,
     "metadata": {},
     "output_type": "execute_result"
    }
   ],
   "source": [
    "dog2=Dog(\"tommy\",1)\n",
    "dog2.name"
   ]
  },
  {
   "cell_type": "code",
   "execution_count": 13,
   "id": "c224c58a",
   "metadata": {},
   "outputs": [
    {
     "data": {
      "text/plain": [
       "'tommy, is 1 years old'"
      ]
     },
     "execution_count": 13,
     "metadata": {},
     "output_type": "execute_result"
    }
   ],
   "source": [
    "dog2.description()"
   ]
  },
  {
   "cell_type": "code",
   "execution_count": 14,
   "id": "25c7fb89",
   "metadata": {},
   "outputs": [],
   "source": [
    "class Dog:\n",
    "    # Class attribute\n",
    "    breed=\"Labrador\"\n",
    "  \n",
    "    def __init__(self,name,age):                  # class method            \n",
    "        self.name=name\n",
    "        self.age=age\n",
    "    # instance method\n",
    "    def description(self):\n",
    "        return f'{self.name}, is {self.age} years old'\n",
    "    # another instance method\n",
    "    def speak(self, sound):\n",
    "        return f'{self.name} says {sound}'"
   ]
  },
  {
   "cell_type": "code",
   "execution_count": 15,
   "id": "df1988cc",
   "metadata": {},
   "outputs": [
    {
     "data": {
      "text/plain": [
       "'max says wow'"
      ]
     },
     "execution_count": 15,
     "metadata": {},
     "output_type": "execute_result"
    }
   ],
   "source": [
    "dog3=Dog(\"max\",2)\n",
    "dog3.speak('wow')"
   ]
  },
  {
   "cell_type": "markdown",
   "id": "4636d8e5",
   "metadata": {},
   "source": [
    "##### objects--> is an entity that has a state and behavior associated with it.\n",
    "- state: is represented by the attributes of an object\n",
    "- behavior: is represented by the methods of an object\n",
    "- identity: gives unique name to an object and enables one object ot interact with other.\n",
    "    \n",
    "    previous eg: class Dog\n",
    "        \n",
    "        identity: name of the dog\n",
    "            \n",
    "        state: breed, age, color....\n",
    "            \n",
    "        behavior: eating or playing"
   ]
  },
  {
   "cell_type": "code",
   "execution_count": null,
   "id": "3b27f94c",
   "metadata": {},
   "outputs": [],
   "source": [
    "## creating a class and object with class and instance attributes\n",
    "class Dog:\n",
    "    #class attribute\n",
    "    attr1=\"mammal\"\n",
    "    \n",
    "    #instance attribute\n",
    "    def __init__(self,name):\n",
    "        self.name=name\n",
    "        \n",
    "#object instantiation\n",
    "Tommy=Dog(\"Tommy\")\n",
    "\n",
    "#access class attributes\n",
    "print(Tommy.attr1)\n",
    "print(Dog.attr1)\n",
    "\n",
    "#access instance variable\n",
    "print(Tommy.name)"
   ]
  },
  {
   "attachments": {
    "python-inheritance.png": {
     "image/png": "[encoded data removed]"
    }
   },
   "cell_type": "markdown",
   "id": "4b3874c8",
   "metadata": {},
   "source": [
    "## Inheritance --> \n",
    "        is the capability of one class to derive or inherit the properties from another class.\n",
    " - Parent class\n",
    "    \n",
    " - child class![python-inheritance.png](attachment:python-inheritance.png)"
   ]
  },
  {
   "cell_type": "code",
   "execution_count": null,
   "id": "93095836",
   "metadata": {},
   "outputs": [],
   "source": [
    "#parent class\n",
    "class Person:\n",
    "    def __init__(self,name,idno):\n",
    "        self.name=name\n",
    "        self.idno=idno\n",
    "    # instance method\n",
    "    def display(self):\n",
    "        print(self.name)\n",
    "        print(self.idno)\n",
    "    #instance method\n",
    "    def details(self):\n",
    "        print(self.name)\n",
    "        print(self.idno)\n",
    "            \n",
    "#child class\\\n",
    "class Employee(Person):\n",
    "    def __init__(self,name,idno,salary,post,age):\n",
    "        self.salary=salary\n",
    "        self.post=post\n",
    "        self.age=age\n",
    "        \n",
    "        #invoke the __init__ of the parent class\n",
    "        Person.__init__(self,name,idno)\n",
    "        \n",
    "    def display(self):\n",
    "        print(self.name)\n",
    "        print(self.idno)\n",
    "        print(self.post)\n",
    "        print(self.salary)\n",
    "        \n",
    "#create object variable (child class)\n",
    "a=Employee('Ravi',88767,200000,\"Intern\",20)\n",
    "\n",
    "\n",
    "# calling a function of the class Person using its instance\n",
    "a.display()\n",
    "a.details()        "
   ]
  },
  {
   "cell_type": "code",
   "execution_count": null,
   "id": "3b68dde7",
   "metadata": {},
   "outputs": [],
   "source": [
    "class Animal:  \n",
    "    def speak(self):  \n",
    "        print(\"Animal Speaking\")  \n",
    "#child class Dog inherits the base class Animal  \n",
    "class Dog(Animal):  \n",
    "    def bark(self):  \n",
    "        print(\"dog barking\")  \n",
    "d = Dog()  \n",
    "d.bark()  \n",
    "d.speak()  "
   ]
  },
  {
   "attachments": {
    "python-inheritance2.png": {
     "image/png": "[encoded data removed]"
    }
   },
   "cell_type": "markdown",
   "id": "2fd645de",
   "metadata": {},
   "source": [
    "##### Python Multi-Level inheritance\n",
    "Multi-Level inheritance is possible in python like other object-oriented languages. Multi-level inheritance is archived when a derived class inherits another derived class. There is no limit on the number of levels up to which, the multi-level inheritance is archived in python.\n",
    "![python-inheritance2.png](attachment:python-inheritance2.png)"
   ]
  },
  {
   "cell_type": "code",
   "execution_count": 16,
   "id": "b1e7a8bf",
   "metadata": {},
   "outputs": [
    {
     "name": "stdout",
     "output_type": "stream",
     "text": [
      "dog barking\n",
      "Animal Speaking\n",
      "Eating bread...\n"
     ]
    }
   ],
   "source": [
    "class Animal:    # parent class \n",
    "    \n",
    "    def speak(self):  \n",
    "        print(\"Animal Speaking\")  \n",
    "#The child class Dog inherits the base class Animal  \n",
    "class Dog(Animal):  # child class\n",
    "    def bark(self):  \n",
    "        print(\"dog barking\")  \n",
    "#The child class Dogchild inherits another child class Dog  \n",
    "class DogChild(Dog): #child class for Dog \n",
    "    def eat(self):  \n",
    "        print(\"Eating bread...\")  \n",
    "d = DogChild()  \n",
    "d.bark()  \n",
    "d.speak()  \n",
    "d.eat()  "
   ]
  },
  {
   "cell_type": "markdown",
   "id": "79484194",
   "metadata": {},
   "source": [
    "##### Python Multiple inheritance\n",
    "Python provides us the flexibility to inherit multiple base classes in the child class.\n"
   ]
  },
  {
   "attachments": {
    "python-inheritance3.png": {
     "image/png": "[encoded data removed]"
    }
   },
   "cell_type": "markdown",
   "id": "b90b8365",
   "metadata": {},
   "source": [
    "![python-inheritance3.png](attachment:python-inheritance3.png)"
   ]
  },
  {
   "cell_type": "code",
   "execution_count": 17,
   "id": "c8b044ce",
   "metadata": {},
   "outputs": [
    {
     "name": "stdout",
     "output_type": "stream",
     "text": [
      "30\n",
      "200\n",
      "0.5\n"
     ]
    }
   ],
   "source": [
    "class Calculation1: # parent class \n",
    "    def Summation(self,a,b):  \n",
    "        return a+b;  \n",
    "class Calculation2: #parent class \n",
    "    def Multiplication(self,a,b):  \n",
    "        return a*b;  \n",
    "class Derived(Calculation1,Calculation2): #child class \n",
    "    def Divide(self,a,b):  \n",
    "        return a/b;  \n",
    "d = Derived()  \n",
    "print(d.Summation(10,20))  \n",
    "print(d.Multiplication(10,20))  \n",
    "print(d.Divide(10,20))  "
   ]
  },
  {
   "cell_type": "markdown",
   "id": "10a0853a",
   "metadata": {},
   "source": [
    "--------------------------------------- End -----------------------------------------------------"
   ]
  }
 ],
 "metadata": {
  "kernelspec": {
   "display_name": "Python 3 (ipykernel)",
   "language": "python",
   "name": "python3"
  },
  "language_info": {
   "codemirror_mode": {
    "name": "ipython",
    "version": 3
   },
   "file_extension": ".py",
   "mimetype": "text/x-python",
   "name": "python",
   "nbconvert_exporter": "python",
   "pygments_lexer": "ipython3",
   "version": "3.9.12"
  }
 },
 "nbformat": 4,
 "nbformat_minor": 5
}
