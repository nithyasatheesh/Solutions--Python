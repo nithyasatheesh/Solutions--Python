{
 "cells": [
  {
   "cell_type": "markdown",
   "id": "74acefbb",
   "metadata": {},
   "source": [
    "### Language Overview\n",
    "    \n",
    "           - Variables\n",
    "           \n",
    "           - statements & Expressions\n",
    "           \n",
    "           - whitespace & comments\n",
    "                           \n",
    "\n",
    "### Types and Values\n",
    "\n",
    "           - Data Types\n",
    "           \n",
    "           - user input & output\n",
    "    \n",
    "           - type() & id()"
   ]
  },
  {
   "cell_type": "markdown",
   "id": "4bce987d",
   "metadata": {},
   "source": [
    "#### Variables\n",
    "Variables are containers for storing data (storing data values)"
   ]
  },
  {
   "cell_type": "code",
   "execution_count": 1,
   "id": "a2e20001",
   "metadata": {},
   "outputs": [],
   "source": [
    "# create a variable\n",
    "a=10"
   ]
  },
  {
   "cell_type": "code",
   "execution_count": 2,
   "id": "7da85cfa",
   "metadata": {},
   "outputs": [
    {
     "data": {
      "text/plain": [
       "int"
      ]
     },
     "execution_count": 2,
     "metadata": {},
     "output_type": "execute_result"
    }
   ],
   "source": [
    "# type of a variable\n",
    "type(a)"
   ]
  },
  {
   "cell_type": "code",
   "execution_count": 3,
   "id": "ac75c4de",
   "metadata": {},
   "outputs": [],
   "source": [
    "### Assign multiple values to multiple variables\n",
    "a=5;b=4;c=7"
   ]
  },
  {
   "cell_type": "code",
   "execution_count": 4,
   "id": "88c5ecc5",
   "metadata": {},
   "outputs": [],
   "source": [
    "### Assign same value to multiple variables\n",
    "a=b=c=5"
   ]
  },
  {
   "cell_type": "code",
   "execution_count": 5,
   "id": "51cc2294",
   "metadata": {},
   "outputs": [],
   "source": [
    "#python is case sensitive\n",
    "New=80\n",
    "new=70"
   ]
  },
  {
   "cell_type": "markdown",
   "id": "0284f775",
   "metadata": {},
   "source": [
    "#### Keywords & Constants"
   ]
  },
  {
   "cell_type": "markdown",
   "id": "0bf71d55",
   "metadata": {},
   "source": [
    "Keywords are the reserved words in Python.\n",
    "\n",
    "We cannot use a keyword as a variable name, function name or any other identifier. They are used to define the syntax and structure of the Python language."
   ]
  },
  {
   "cell_type": "raw",
   "id": "b2a1946b",
   "metadata": {},
   "source": [
    "All the keywords except True, False and None are in lowercase and they must be written as they are.\n",
    "\n",
    "The list of all the keywords is given below.\n",
    "\n",
    "False\tawait\telse\timport\tpass\n",
    "\n",
    "None\tbreak\texcept\tin\traise\n",
    "\n",
    "True\tclass\tfinally\tis\treturn\n",
    "\n",
    "and\tcontinue\tfor\tlambda\ttry\n",
    "\n",
    "as\tdef\tfrom\tnonlocal\twhile\n",
    "\n",
    "assert\tdel\tglobal\tnot\twith\n",
    "\n",
    "async\telif\tif\tor\tyield\n"
   ]
  },
  {
   "cell_type": "markdown",
   "id": "519bb05e",
   "metadata": {},
   "source": [
    "A constant is a type of variable whose value cannot be changed."
   ]
  },
  {
   "cell_type": "markdown",
   "id": "a415699c",
   "metadata": {},
   "source": [
    "#### Statements and Expressions"
   ]
  },
  {
   "cell_type": "markdown",
   "id": "bb17b285",
   "metadata": {},
   "source": [
    "An Expression is a sequence or combination of values, variables, operators and function calls that always produces or returns a result value.\n",
    "– An Expression always evaluates (calculate) to itself."
   ]
  },
  {
   "cell_type": "markdown",
   "id": "8f04b5e9",
   "metadata": {},
   "source": [
    " z = x + y\n",
    "In the above example = and + are operators.\n",
    "\n",
    "So, x + y is an expression."
   ]
  },
  {
   "cell_type": "markdown",
   "id": "11ca2032",
   "metadata": {},
   "source": [
    "Any Instruction that a python interpreter can execute (carry out) is called a Statement."
   ]
  },
  {
   "cell_type": "markdown",
   "id": "27e7fcf7",
   "metadata": {},
   "source": [
    "Each and every line or a sentence in any programming language is called an instruction.\n",
    "In simple words – A Statement is the smallest executable unit of code that has an effect, like creating a variable or displaying a value.\n",
    "Each and every line of code that we write in any programming language is called a statement"
   ]
  },
  {
   "cell_type": "raw",
   "id": "80ee9151",
   "metadata": {},
   "source": [
    "Difference between Expressions and Statements in Python:\n",
    "\n",
    "Expression\t  \n",
    "\n",
    "                                                                    Statement\n",
    "                                                                    \n",
    "An expression evaluates to a value\t                          A statement executes something\n",
    "The evaluation of a statement does not changes state\t      The execution of a statement changes state\n",
    "Evaluation of an expression always Produces or returns\n",
    "a result value.\t                                              Execution of a statement may or may not produces or displays a                                                                 result value, it only does whatever the statement says.\n",
    "Every expression can’t be a statement.\t                      Every statement can be an expression.\n",
    "\n",
    "Example: >>> a + 16\n",
    ">>> 20\t                                                      Example:  >>> x = 3\n",
    "                                                               >>> print(x)\n",
    "\n",
    "                                                                 Output: 3"
   ]
  },
  {
   "cell_type": "markdown",
   "id": "ff734e94",
   "metadata": {},
   "source": [
    "#### Whitespace & Comment"
   ]
  },
  {
   "cell_type": "raw",
   "id": "98a621d5",
   "metadata": {},
   "source": [
    "Indentation: A code block (body of a function, loop, etc.) starts with indentation.\n",
    "Generally, four whitespaces are used for indentation and are preferred over tabs.\n",
    "\n",
    "Comment: A Python comment is a line of text that appears in a program but is not executed by the program."
   ]
  },
  {
   "cell_type": "raw",
   "id": "98d2e914",
   "metadata": {},
   "source": [
    "Single line comments: Python single-line comment starts with a hashtag symbol with no white spaces (#) and lasts till the end of the line. If the comment exceeds one line then put a hashtag on the next line and continue the comment.\n",
    "Multi-line string as a comment: Python multi-line comment is a piece of text enclosed in a delimiter (“””) on each end of the comment. Again there should be no white space between delimiter (“””)."
   ]
  },
  {
   "cell_type": "code",
   "execution_count": 7,
   "id": "89d7560d",
   "metadata": {},
   "outputs": [
    {
     "data": {
      "text/plain": [
       "10"
      ]
     },
     "execution_count": 7,
     "metadata": {},
     "output_type": "execute_result"
    }
   ],
   "source": [
    "\"\"\" this is the \n",
    "sentence of comments\"\"\"\n",
    "a=10\n",
    "a"
   ]
  },
  {
   "cell_type": "markdown",
   "id": "ff092167",
   "metadata": {},
   "source": [
    "### Types and Values\n",
    "#### Data types"
   ]
  },
  {
   "cell_type": "markdown",
   "id": "4a612851",
   "metadata": {},
   "source": [
    "- numeric (int,float)\n",
    "\n",
    "- bool\n",
    "\n",
    "- complex\n",
    "\n",
    "- string\n"
   ]
  },
  {
   "cell_type": "code",
   "execution_count": 8,
   "id": "e818ec02",
   "metadata": {},
   "outputs": [],
   "source": [
    "### int\n",
    "a1=25"
   ]
  },
  {
   "cell_type": "code",
   "execution_count": 9,
   "id": "b0a28b86",
   "metadata": {},
   "outputs": [
    {
     "data": {
      "text/plain": [
       "int"
      ]
     },
     "execution_count": 9,
     "metadata": {},
     "output_type": "execute_result"
    }
   ],
   "source": [
    "# check the data type\n",
    "type(a1)"
   ]
  },
  {
   "cell_type": "code",
   "execution_count": 10,
   "id": "29d09fb5",
   "metadata": {},
   "outputs": [],
   "source": [
    "### float\n",
    "b1=2.5"
   ]
  },
  {
   "cell_type": "code",
   "execution_count": 11,
   "id": "2ad266da",
   "metadata": {},
   "outputs": [
    {
     "data": {
      "text/plain": [
       "float"
      ]
     },
     "execution_count": 11,
     "metadata": {},
     "output_type": "execute_result"
    }
   ],
   "source": [
    "type(b1)"
   ]
  },
  {
   "cell_type": "code",
   "execution_count": 12,
   "id": "4742723b",
   "metadata": {},
   "outputs": [],
   "source": [
    "# add integer value and float value and check the data type\n",
    "c1=a1+b1"
   ]
  },
  {
   "cell_type": "code",
   "execution_count": 13,
   "id": "1181198d",
   "metadata": {},
   "outputs": [
    {
     "data": {
      "text/plain": [
       "float"
      ]
     },
     "execution_count": 13,
     "metadata": {},
     "output_type": "execute_result"
    }
   ],
   "source": [
    "type(c1)"
   ]
  },
  {
   "cell_type": "code",
   "execution_count": 14,
   "id": "7ac5980b",
   "metadata": {},
   "outputs": [
    {
     "data": {
      "text/plain": [
       "bool"
      ]
     },
     "execution_count": 14,
     "metadata": {},
     "output_type": "execute_result"
    }
   ],
   "source": [
    "### bool\n",
    "d=True\n",
    "type(d)"
   ]
  },
  {
   "cell_type": "code",
   "execution_count": 15,
   "id": "f52c6e89",
   "metadata": {},
   "outputs": [
    {
     "data": {
      "text/plain": [
       "complex"
      ]
     },
     "execution_count": 15,
     "metadata": {},
     "output_type": "execute_result"
    }
   ],
   "source": [
    "### complex\n",
    "e=5+4j\n",
    "type(e)"
   ]
  },
  {
   "cell_type": "code",
   "execution_count": 16,
   "id": "ae67a230",
   "metadata": {},
   "outputs": [
    {
     "data": {
      "text/plain": [
       "str"
      ]
     },
     "execution_count": 16,
     "metadata": {},
     "output_type": "execute_result"
    }
   ],
   "source": [
    "### string\n",
    "S=\"hello\"\n",
    "type(S)"
   ]
  },
  {
   "cell_type": "code",
   "execution_count": 17,
   "id": "299b39a4",
   "metadata": {},
   "outputs": [
    {
     "ename": "TypeError",
     "evalue": "can only concatenate str (not \"int\") to str",
     "output_type": "error",
     "traceback": [
      "\u001b[1;31m---------------------------------------------------------------------------\u001b[0m",
      "\u001b[1;31mTypeError\u001b[0m                                 Traceback (most recent call last)",
      "\u001b[1;32m~\\AppData\\Local\\Temp/ipykernel_15796/161958673.py\u001b[0m in \u001b[0;36m<module>\u001b[1;34m\u001b[0m\n\u001b[0;32m      1\u001b[0m \u001b[1;31m### Cannot add intobject to string object\u001b[0m\u001b[1;33m\u001b[0m\u001b[1;33m\u001b[0m\u001b[0m\n\u001b[1;32m----> 2\u001b[1;33m \u001b[0mS\u001b[0m\u001b[1;33m+\u001b[0m\u001b[0ma\u001b[0m\u001b[1;33m\u001b[0m\u001b[1;33m\u001b[0m\u001b[0m\n\u001b[0m",
      "\u001b[1;31mTypeError\u001b[0m: can only concatenate str (not \"int\") to str"
     ]
    }
   ],
   "source": [
    "### Cannot add intobject to string object\n",
    "S+a"
   ]
  },
  {
   "cell_type": "code",
   "execution_count": 18,
   "id": "d14e430b",
   "metadata": {},
   "outputs": [
    {
     "data": {
      "text/plain": [
       "5"
      ]
     },
     "execution_count": 18,
     "metadata": {},
     "output_type": "execute_result"
    }
   ],
   "source": [
    "#output\n",
    "b"
   ]
  },
  {
   "cell_type": "code",
   "execution_count": 20,
   "id": "9a4e8b36",
   "metadata": {},
   "outputs": [
    {
     "data": {
      "text/plain": [
       "27.5"
      ]
     },
     "execution_count": 20,
     "metadata": {},
     "output_type": "execute_result"
    }
   ],
   "source": [
    "c1"
   ]
  },
  {
   "cell_type": "code",
   "execution_count": 21,
   "id": "90893b7e",
   "metadata": {},
   "outputs": [
    {
     "data": {
      "text/plain": [
       "True"
      ]
     },
     "execution_count": 21,
     "metadata": {},
     "output_type": "execute_result"
    }
   ],
   "source": [
    "a\n",
    "b\n",
    "c1\n",
    "d"
   ]
  },
  {
   "cell_type": "code",
   "execution_count": 22,
   "id": "f13b7513",
   "metadata": {},
   "outputs": [
    {
     "name": "stdout",
     "output_type": "stream",
     "text": [
      "10\n",
      "5\n",
      "True\n"
     ]
    }
   ],
   "source": [
    "print(a);print(b);print(d)"
   ]
  },
  {
   "cell_type": "code",
   "execution_count": 23,
   "id": "9aa3df85",
   "metadata": {},
   "outputs": [
    {
     "name": "stdout",
     "output_type": "stream",
     "text": [
      "The value of a is 10\n"
     ]
    }
   ],
   "source": [
    "# different formats of output\n",
    "print(\"The value of a is\",a)"
   ]
  },
  {
   "cell_type": "code",
   "execution_count": 24,
   "id": "f706351b",
   "metadata": {},
   "outputs": [
    {
     "name": "stdout",
     "output_type": "stream",
     "text": [
      "The value of c1 is 10\n"
     ]
    }
   ],
   "source": [
    "# format() method\n",
    "print(\"The value of c1 is {}\".format(a))"
   ]
  },
  {
   "cell_type": "code",
   "execution_count": 25,
   "id": "76b14aaf",
   "metadata": {},
   "outputs": [
    {
     "name": "stdout",
     "output_type": "stream",
     "text": [
      "welcome\n",
      "to all\n"
     ]
    }
   ],
   "source": [
    "print(\"welcome\")\n",
    "print(\"to all\")"
   ]
  },
  {
   "cell_type": "code",
   "execution_count": 28,
   "id": "a53698e4",
   "metadata": {},
   "outputs": [
    {
     "name": "stdout",
     "output_type": "stream",
     "text": [
      "welcome to all\n"
     ]
    }
   ],
   "source": [
    "# with end parameter end =''\n",
    "print(\"welcome\",end=' ')\n",
    "print(\"to all\")"
   ]
  },
  {
   "cell_type": "code",
   "execution_count": 43,
   "id": "5e01e829",
   "metadata": {},
   "outputs": [
    {
     "name": "stdout",
     "output_type": "stream",
     "text": [
      "6\n"
     ]
    }
   ],
   "source": [
    "## user input \n",
    "## input() function\n",
    "input1=input()"
   ]
  },
  {
   "cell_type": "code",
   "execution_count": 30,
   "id": "61683ed4",
   "metadata": {},
   "outputs": [
    {
     "data": {
      "text/plain": [
       "str"
      ]
     },
     "execution_count": 30,
     "metadata": {},
     "output_type": "execute_result"
    }
   ],
   "source": [
    "# type\n",
    "type(input1)"
   ]
  },
  {
   "cell_type": "code",
   "execution_count": 44,
   "id": "9dc85c97",
   "metadata": {},
   "outputs": [
    {
     "name": "stdout",
     "output_type": "stream",
     "text": [
      "8\n"
     ]
    }
   ],
   "source": [
    "# Type casting\n",
    "input2=int(input())\n",
    "#input3=float(input())"
   ]
  },
  {
   "cell_type": "code",
   "execution_count": 45,
   "id": "80bb8738",
   "metadata": {},
   "outputs": [
    {
     "data": {
      "text/plain": [
       "int"
      ]
     },
     "execution_count": 45,
     "metadata": {},
     "output_type": "execute_result"
    }
   ],
   "source": [
    "#type\n",
    "type(input2)"
   ]
  },
  {
   "cell_type": "code",
   "execution_count": 34,
   "id": "0fc2a4ba",
   "metadata": {},
   "outputs": [
    {
     "name": "stdout",
     "output_type": "stream",
     "text": [
      "3\n",
      "5\n",
      "hello\n"
     ]
    }
   ],
   "source": [
    "## multiple inputs\n",
    "var1=int(input())\n",
    "var2=int(input())\n",
    "var3=input()"
   ]
  },
  {
   "cell_type": "code",
   "execution_count": 46,
   "id": "a507c8d1",
   "metadata": {},
   "outputs": [
    {
     "name": "stdout",
     "output_type": "stream",
     "text": [
      "3,5\n"
     ]
    }
   ],
   "source": [
    "# split() method to write multiple imputs in a single line\n",
    "v1,v2=input().split(',')"
   ]
  },
  {
   "cell_type": "code",
   "execution_count": 40,
   "id": "ef3137ef",
   "metadata": {},
   "outputs": [
    {
     "name": "stdout",
     "output_type": "stream",
     "text": [
      "enter two inputs34 45\n"
     ]
    }
   ],
   "source": [
    "input3=input(\"enter two inputs\").split(' ')"
   ]
  },
  {
   "cell_type": "code",
   "execution_count": 41,
   "id": "10a33b70",
   "metadata": {},
   "outputs": [
    {
     "name": "stdout",
     "output_type": "stream",
     "text": [
      "i j\n"
     ]
    }
   ],
   "source": [
    "input4,input5=input().split()"
   ]
  },
  {
   "cell_type": "markdown",
   "id": "bde8b7b3",
   "metadata": {},
   "source": [
    "#### type() and id()"
   ]
  },
  {
   "cell_type": "markdown",
   "id": "d1852bc8",
   "metadata": {},
   "source": [
    "The id() function returns a unique id for the specified object.\n",
    "\n",
    "All objects in Python has its own unique id.\n",
    "\n",
    "The id is assigned to the object when it is created.\n",
    "###### syntax: id(object)"
   ]
  },
  {
   "cell_type": "markdown",
   "id": "e0b82a32",
   "metadata": {},
   "source": [
    "id() function returns the identity of the object. type() function returns the type of the object"
   ]
  },
  {
   "cell_type": "code",
   "execution_count": 47,
   "id": "621bf982",
   "metadata": {},
   "outputs": [
    {
     "data": {
      "text/plain": [
       "1598489848400"
      ]
     },
     "execution_count": 47,
     "metadata": {},
     "output_type": "execute_result"
    }
   ],
   "source": [
    "id(a)"
   ]
  },
  {
   "cell_type": "code",
   "execution_count": null,
   "id": "2fad319e",
   "metadata": {},
   "outputs": [],
   "source": []
  },
  {
   "cell_type": "code",
   "execution_count": null,
   "id": "791ffbc7",
   "metadata": {},
   "outputs": [],
   "source": []
  },
  {
   "cell_type": "code",
   "execution_count": null,
   "id": "5d54dc4d",
   "metadata": {},
   "outputs": [],
   "source": []
  },
  {
   "cell_type": "code",
   "execution_count": null,
   "id": "de269afb",
   "metadata": {},
   "outputs": [],
   "source": [
    "### Hands-on - Exercise"
   ]
  },
  {
   "cell_type": "code",
   "execution_count": 1,
   "id": "18428158",
   "metadata": {},
   "outputs": [
    {
     "name": "stdout",
     "output_type": "stream",
     "text": [
      "7\n",
      "8\n"
     ]
    }
   ],
   "source": [
    "#Accept numbers from a user\n",
    "a1=int(input())\n",
    "a2=int(input())"
   ]
  },
  {
   "cell_type": "code",
   "execution_count": 2,
   "id": "00e2ea90",
   "metadata": {},
   "outputs": [
    {
     "name": "stdout",
     "output_type": "stream",
     "text": [
      "56.89008\n",
      "56.89\n"
     ]
    }
   ],
   "source": [
    "#Display float number with 2 decimal places using print()\n",
    "a3=float(input())\n",
    "print(round(a3,2))"
   ]
  },
  {
   "cell_type": "code",
   "execution_count": null,
   "id": "2632a029",
   "metadata": {},
   "outputs": [],
   "source": [
    "#Accept 3 float numbers as an input from the user\n"
   ]
  },
  {
   "cell_type": "code",
   "execution_count": 4,
   "id": "0c4944dc",
   "metadata": {},
   "outputs": [
    {
     "name": "stdout",
     "output_type": "stream",
     "text": [
      "enter three strings:5,'hi',8\n"
     ]
    }
   ],
   "source": [
    "#Accept any three string from one input() call \n",
    "a4,a5,a6=input(\"enter three strings:\" ).split(',')"
   ]
  },
  {
   "cell_type": "code",
   "execution_count": 6,
   "id": "121d2faa",
   "metadata": {},
   "outputs": [
    {
     "name": "stdout",
     "output_type": "stream",
     "text": [
      "['__add__', '__class__', '__contains__', '__delattr__', '__dir__', '__doc__', '__eq__', '__format__', '__ge__', '__getattribute__', '__getitem__', '__getnewargs__', '__gt__', '__hash__', '__init__', '__init_subclass__', '__iter__', '__le__', '__len__', '__lt__', '__mod__', '__mul__', '__ne__', '__new__', '__reduce__', '__reduce_ex__', '__repr__', '__rmod__', '__rmul__', '__setattr__', '__sizeof__', '__str__', '__subclasshook__', 'capitalize', 'casefold', 'center', 'count', 'encode', 'endswith', 'expandtabs', 'find', 'format', 'format_map', 'index', 'isalnum', 'isalpha', 'isascii', 'isdecimal', 'isdigit', 'isidentifier', 'islower', 'isnumeric', 'isprintable', 'isspace', 'istitle', 'isupper', 'join', 'ljust', 'lower', 'lstrip', 'maketrans', 'partition', 'removeprefix', 'removesuffix', 'replace', 'rfind', 'rindex', 'rjust', 'rpartition', 'rsplit', 'rstrip', 'split', 'splitlines', 'startswith', 'strip', 'swapcase', 'title', 'translate', 'upper', 'zfill']\n"
     ]
    }
   ],
   "source": [
    "num=46\n",
    "#print(dir(num))\n",
    "print(dir(a4))"
   ]
  },
  {
   "cell_type": "code",
   "execution_count": 7,
   "id": "914507fc",
   "metadata": {},
   "outputs": [
    {
     "name": "stdout",
     "output_type": "stream",
     "text": [
      "56.7\n",
      "1.3\n",
      "58.0\n"
     ]
    }
   ],
   "source": [
    "#Accept two float numbers and find the sum.\n",
    "a5=float(input())\n",
    "a6=float(input())\n",
    "print(a5+a6)"
   ]
  },
  {
   "cell_type": "code",
   "execution_count": 8,
   "id": "0397e5a8",
   "metadata": {},
   "outputs": [
    {
     "name": "stdout",
     "output_type": "stream",
     "text": [
      "'j' 'i\n"
     ]
    }
   ],
   "source": [
    "# Get two inputs in a single line by using user input function\n",
    "a7,a8=input().split(' ')"
   ]
  },
  {
   "cell_type": "code",
   "execution_count": 9,
   "id": "c4c26471",
   "metadata": {},
   "outputs": [
    {
     "name": "stdout",
     "output_type": "stream",
     "text": [
      " r\n"
     ]
    }
   ],
   "source": [
    "#Make a Python program that prints your name.\n",
    "print(\" r\")"
   ]
  },
  {
   "cell_type": "code",
   "execution_count": 10,
   "id": "914c0a7d",
   "metadata": {},
   "outputs": [
    {
     "name": "stdout",
     "output_type": "stream",
     "text": [
      "6\n",
      "8\n",
      "10\n"
     ]
    }
   ],
   "source": [
    "# Make a program that displays several numbers.\n",
    "a=6;b=8;c=10\n",
    "print(a);print(b);print(c)"
   ]
  },
  {
   "cell_type": "code",
   "execution_count": 11,
   "id": "3ed3dd45",
   "metadata": {},
   "outputs": [
    {
     "name": "stdout",
     "output_type": "stream",
     "text": [
      "64\n",
      "32\n",
      "96\n"
     ]
    }
   ],
   "source": [
    "# Make a program that solves and shows the summation of 64 + 32\n",
    "a8=int(input())\n",
    "a9=int(input())\n",
    "print(a8+a9)"
   ]
  },
  {
   "cell_type": "code",
   "execution_count": 12,
   "id": "0b9bee9c",
   "metadata": {},
   "outputs": [
    {
     "name": "stdout",
     "output_type": "stream",
     "text": [
      "lucky\n"
     ]
    }
   ],
   "source": [
    "#Try to print the word ‘lucky’ inside 's'\n",
    "s=\"lucky\"\n",
    "print(s)"
   ]
  },
  {
   "cell_type": "code",
   "execution_count": 13,
   "id": "18486a47",
   "metadata": {},
   "outputs": [
    {
     "name": "stdout",
     "output_type": "stream",
     "text": [
      "prefered language Python\n"
     ]
    }
   ],
   "source": [
    "# Make a program that asks the users preferred programming language.\n",
    "prog=input(\"prefered language \")"
   ]
  },
  {
   "cell_type": "code",
   "execution_count": 14,
   "id": "13d3aa5a",
   "metadata": {},
   "outputs": [
    {
     "name": "stdout",
     "output_type": "stream",
     "text": [
      "123\n"
     ]
    },
    {
     "data": {
      "text/plain": [
       "'1231'"
      ]
     },
     "execution_count": 14,
     "metadata": {},
     "output_type": "execute_result"
    }
   ],
   "source": [
    "# Get string object '123' from user input function and add value 1.\n",
    "a10=input()\n",
    "a10+\"1\"\n",
    "# a10+str(1)"
   ]
  },
  {
   "cell_type": "code",
   "execution_count": null,
   "id": "369df9b9",
   "metadata": {},
   "outputs": [],
   "source": []
  }
 ],
 "metadata": {
  "kernelspec": {
   "display_name": "Python 3 (ipykernel)",
   "language": "python",
   "name": "python3"
  },
  "language_info": {
   "codemirror_mode": {
    "name": "ipython",
    "version": 3
   },
   "file_extension": ".py",
   "mimetype": "text/x-python",
   "name": "python",
   "nbconvert_exporter": "python",
   "pygments_lexer": "ipython3",
   "version": "3.9.12"
  }
 },
 "nbformat": 4,
 "nbformat_minor": 5
}
