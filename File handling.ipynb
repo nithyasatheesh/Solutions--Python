{
 "cells": [
  {
   "cell_type": "markdown",
   "id": "0221b6f2",
   "metadata": {},
   "source": [
    "### File handling\n",
    "\n",
    "- Opening files\n",
    "- Text vs Binary mode\n",
    "- Text and Binary files"
   ]
  },
  {
   "cell_type": "markdown",
   "id": "ac386fa1",
   "metadata": {},
   "source": [
    "### File handling"
   ]
  },
  {
   "cell_type": "code",
   "execution_count": null,
   "id": "3fda30df",
   "metadata": {},
   "outputs": [],
   "source": [
    "## Opening files in Python\n",
    "# open() \n",
    "f=open(\"D://Files//sample1.txt\")  # open file in current directory , read mode\n",
    "#f=open(\" D://Files//sample1.txt\") # specify full path"
   ]
  },
  {
   "cell_type": "markdown",
   "id": "b3c2eb2d",
   "metadata": {},
   "source": [
    "Mode\n",
    "\n",
    "r opens a file for reading\n",
    "\n",
    "w opens a file for writing\n",
    "\n",
    "a opens a file for appending at the end of the file\n",
    "\n",
    "t opens in text mode\n",
    "\n",
    "b opens in binary mode"
   ]
  },
  {
   "cell_type": "code",
   "execution_count": 4,
   "id": "3721f2c0",
   "metadata": {},
   "outputs": [],
   "source": [
    "f=open(\"D://Files//sample1.txt\",'r')\n",
    "#f=open(\"D://Files//sample1.txt\",'w') # write in text mode"
   ]
  },
  {
   "cell_type": "code",
   "execution_count": 5,
   "id": "a5fe1511",
   "metadata": {},
   "outputs": [],
   "source": [
    "f=open(\"D://Files//sample1.txt\",'r')\n",
    "#perform file operations\n",
    "f.close()"
   ]
  },
  {
   "cell_type": "code",
   "execution_count": 6,
   "id": "d5dc6005",
   "metadata": {},
   "outputs": [
    {
     "data": {
      "text/plain": [
       "\"I would love to try or hear the sample audio your app can produce. I do not want to purchase, because I've purchased so many apps that say they do something and do not deliver.  \\n\\nCan you please add audio samples with text you've converted? I'd love to see the end results.\\n\\nThanks!hello all\""
      ]
     },
     "execution_count": 6,
     "metadata": {},
     "output_type": "execute_result"
    }
   ],
   "source": [
    "f=open(\"D://Files//sample.txt\",'r')\n",
    "f.read()\n",
    "#f.close()"
   ]
  },
  {
   "cell_type": "code",
   "execution_count": 7,
   "id": "30c01a44",
   "metadata": {},
   "outputs": [],
   "source": [
    "f.close()"
   ]
  },
  {
   "cell_type": "code",
   "execution_count": 8,
   "id": "cf5f8c1c",
   "metadata": {},
   "outputs": [],
   "source": [
    "with open(\"D://Files//newsample.txt\",'w') as g:\n",
    "    g.write(\"myfirst file\\n\")\n",
    "    g.write(\"This file\\n\")"
   ]
  },
  {
   "cell_type": "code",
   "execution_count": 9,
   "id": "f7cb8236",
   "metadata": {},
   "outputs": [
    {
     "name": "stdout",
     "output_type": "stream",
     "text": [
      "myfirst file\n",
      "\n",
      "This file\n",
      "\n"
     ]
    }
   ],
   "source": [
    "with open(\"D://Files//newsample.txt\",'r') as g:\n",
    "    line=g.readline()\n",
    "    line1=g.readline()\n",
    "    print(line)\n",
    "    print(line1)"
   ]
  },
  {
   "cell_type": "code",
   "execution_count": 10,
   "id": "8dc69fe2",
   "metadata": {},
   "outputs": [
    {
     "name": "stdout",
     "output_type": "stream",
     "text": [
      "['myfirst file\\n', 'This file\\n']\n"
     ]
    }
   ],
   "source": [
    "with open(\"D://Files//newsample.txt\",'r') as g:\n",
    "    line=g.readlines()\n",
    "    print(line)"
   ]
  },
  {
   "cell_type": "markdown",
   "id": "a3fb8c35",
   "metadata": {},
   "source": [
    "read() – read all text from a file into a string. This method is useful if you have a small file and            you want to manipulate the whole text of that file.\n",
    "readline() – read the text file line by line and return all the lines as strings.\n",
    "readlines() – read all the lines of the text file and return them as a list of strings."
   ]
  },
  {
   "cell_type": "code",
   "execution_count": 11,
   "id": "f056abb0",
   "metadata": {},
   "outputs": [
    {
     "data": {
      "text/plain": [
       "<function TextIOWrapper.close()>"
      ]
     },
     "execution_count": 11,
     "metadata": {},
     "output_type": "execute_result"
    }
   ],
   "source": [
    "new=open(\"D://Files//newsample.txt\",'r')\n",
    "new.read()\n",
    "new.close"
   ]
  },
  {
   "cell_type": "code",
   "execution_count": null,
   "id": "4c4935ad",
   "metadata": {},
   "outputs": [],
   "source": [
    "h=open(\"sample.txt\",'w') \n",
    "h.write(\"welcome all\")\n",
    "h.write (\"to new program\")\n",
    "h.close()"
   ]
  },
  {
   "cell_type": "code",
   "execution_count": null,
   "id": "97cbe33c",
   "metadata": {},
   "outputs": [],
   "source": [
    "#The r means reading file; r+ means reading and writing the file.\n",
    "#The w means writing file; w+ means reading and writing the file."
   ]
  },
  {
   "cell_type": "markdown",
   "id": "8d6017b0",
   "metadata": {},
   "source": [
    "#### Text vs Binary files"
   ]
  },
  {
   "cell_type": "markdown",
   "id": "22f1a599",
   "metadata": {},
   "source": [
    "\"Binary\" files are any files where the format isn't made up of readable characters. Binary files can range from image files like JPEGs or GIFs, audio files like MP3s or binary document formats like Word or PDF. In Python, files are opened in text mode by default. To open files in binary mode, when specifying a mode, add 'b' to it."
   ]
  },
  {
   "cell_type": "code",
   "execution_count": 12,
   "id": "939a095b",
   "metadata": {},
   "outputs": [
    {
     "name": "stdout",
     "output_type": "stream",
     "text": [
      "b'Hello1111'\n"
     ]
    }
   ],
   "source": [
    "f = open('D://Files//samplefile.mp3', 'rb')\n",
    "file_content = f.read()\n",
    "print(file_content)\n",
    "#f.close()"
   ]
  },
  {
   "cell_type": "code",
   "execution_count": 13,
   "id": "c7673770",
   "metadata": {},
   "outputs": [],
   "source": [
    "f.close()"
   ]
  },
  {
   "cell_type": "code",
   "execution_count": 14,
   "id": "775ecc62",
   "metadata": {},
   "outputs": [],
   "source": [
    "f = open('D://Files//samplefile.mp3', 'w+b')\n",
    "file_content = f.read()\n",
    "f.write(b'Hello')\n",
    "f.close()"
   ]
  },
  {
   "cell_type": "code",
   "execution_count": 15,
   "id": "74cda939",
   "metadata": {},
   "outputs": [
    {
     "data": {
      "text/plain": [
       "b'Hello'"
      ]
     },
     "execution_count": 15,
     "metadata": {},
     "output_type": "execute_result"
    }
   ],
   "source": [
    "f = open('D://Files//samplefile.mp3', 'rb')\n",
    "file_content = f.read()\n",
    "file_content\n"
   ]
  },
  {
   "cell_type": "code",
   "execution_count": 16,
   "id": "c6d8f678",
   "metadata": {},
   "outputs": [],
   "source": [
    "f.close()"
   ]
  },
  {
   "cell_type": "code",
   "execution_count": 20,
   "id": "e4011a8f",
   "metadata": {},
   "outputs": [
    {
     "name": "stdout",
     "output_type": "stream",
     "text": [
      "b'\\xff\\xd8\\xff\\xe0\\x00\\x10JFIF\\x00\\x01\\x01\\x01\\x00`\\x00`\\x00\\x00\\xff\\xdb\\x00C\\x00\\x03\\x02\\x02\\x03\\x02\\x02\\x03\\x03\\x03\\x03\\x04\\x03\\x03\\x04\\x05\\x08\\x05\\x05\\x04\\x04\\x05\\n'\n"
     ]
    }
   ],
   "source": [
    "with open(\"D://Files//iron_man.jpg\", \"rb\") as f:\n",
    "    byte = f.readline() #the file is read one byte at a time \n",
    "    print(byte)\n"
   ]
  },
  {
   "cell_type": "code",
   "execution_count": 21,
   "id": "cb0f8fc9",
   "metadata": {},
   "outputs": [],
   "source": [
    "with open(\"D://Files//iron_man.jpg\", \"wb\") as f:\n",
    "    f.write(b'welcome to all---')\n",
    "   "
   ]
  },
  {
   "cell_type": "code",
   "execution_count": null,
   "id": "3109d6b2",
   "metadata": {},
   "outputs": [],
   "source": [
    "------------------------------------------ end ------------------------------------"
   ]
  }
 ],
 "metadata": {
  "kernelspec": {
   "display_name": "Python 3 (ipykernel)",
   "language": "python",
   "name": "python3"
  },
  "language_info": {
   "codemirror_mode": {
    "name": "ipython",
    "version": 3
   },
   "file_extension": ".py",
   "mimetype": "text/x-python",
   "name": "python",
   "nbconvert_exporter": "python",
   "pygments_lexer": "ipython3",
   "version": "3.9.12"
  }
 },
 "nbformat": 4,
 "nbformat_minor": 5
}
