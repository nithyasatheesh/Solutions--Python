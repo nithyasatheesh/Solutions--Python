{
 "cells": [
  {
   "cell_type": "markdown",
   "id": "1a80b102",
   "metadata": {},
   "source": [
    "### Data Structures\n",
    "\n",
    "         - Lists\n",
    "    \n",
    "         - Tuple\n",
    "        \n",
    "         - Dictionary\n",
    "            \n",
    "              \n",
    "### List Comprehension"
   ]
  },
  {
   "cell_type": "markdown",
   "id": "42c2e01d",
   "metadata": {},
   "source": [
    "#### Data Structures in Python\n",
    "##### Lists"
   ]
  },
  {
   "cell_type": "code",
   "execution_count": null,
   "id": "8371ad4b",
   "metadata": {},
   "outputs": [],
   "source": [
    "An ordered sequence of values enclosed within [ ].\n",
    "\n",
    "- List can be created by [] or list()\n",
    "\n",
    "- Lists are mutable : Can do changes\n",
    "\n",
    "-  List can contain multiple data types\n",
    "\n",
    "- Lists are iterables"
   ]
  },
  {
   "cell_type": "code",
   "execution_count": null,
   "id": "93500aaa",
   "metadata": {},
   "outputs": [],
   "source": [
    "# Create an empty list\n",
    "L=[]\n",
    "#L=list()"
   ]
  },
  {
   "cell_type": "code",
   "execution_count": null,
   "id": "a9de41d9",
   "metadata": {},
   "outputs": [],
   "source": [
    "#type\n",
    "type(L)"
   ]
  },
  {
   "cell_type": "code",
   "execution_count": null,
   "id": "9d2cc50f",
   "metadata": {},
   "outputs": [],
   "source": [
    "# create a list with int data types\n",
    "newlist1=[1,2,3,4]\n",
    "newlist1"
   ]
  },
  {
   "cell_type": "code",
   "execution_count": null,
   "id": "139194c1",
   "metadata": {},
   "outputs": [],
   "source": [
    "# create a list with string data type \n",
    "newlist2=['hi','he']\n",
    "newlist2"
   ]
  },
  {
   "cell_type": "code",
   "execution_count": null,
   "id": "77d50381",
   "metadata": {},
   "outputs": [],
   "source": [
    "# create a list with mixed data types : \n",
    "newlist3=[1,'h',True]\n",
    "newlist3"
   ]
  },
  {
   "cell_type": "code",
   "execution_count": null,
   "id": "6872b83d",
   "metadata": {},
   "outputs": [],
   "source": [
    "# Lists are mutable\n",
    "# change the value '5' into '0' in the list ls3\n",
    "ls3=[5,6.5,'age',True]\n",
    "ls3[0]=0\n",
    "ls3"
   ]
  },
  {
   "cell_type": "code",
   "execution_count": null,
   "id": "56313591",
   "metadata": {},
   "outputs": [],
   "source": [
    "# Extract 'age' from the list ls3\n",
    "ls3[2]"
   ]
  },
  {
   "cell_type": "code",
   "execution_count": null,
   "id": "83b9901a",
   "metadata": {},
   "outputs": [],
   "source": [
    "ls3"
   ]
  },
  {
   "cell_type": "code",
   "execution_count": null,
   "id": "18c666d3",
   "metadata": {},
   "outputs": [],
   "source": [
    "# Extract 'e'  from the list ls3\n",
    "ls3[2][2]"
   ]
  },
  {
   "cell_type": "code",
   "execution_count": null,
   "id": "ec42fa2a",
   "metadata": {},
   "outputs": [],
   "source": [
    "# Extract 'age',True from the list ls3\n",
    "ls3[2:]"
   ]
  },
  {
   "cell_type": "code",
   "execution_count": null,
   "id": "6953d46a",
   "metadata": {},
   "outputs": [],
   "source": [
    "ls4= [25,31,[3,4],-5]\n",
    "# extract [3,4] from the list ls4.\n",
    "ls4[2]"
   ]
  },
  {
   "cell_type": "code",
   "execution_count": null,
   "id": "3d7e4da5",
   "metadata": {},
   "outputs": [],
   "source": [
    "first=[2,34,5,[56,81,[43,89],67],10]"
   ]
  },
  {
   "cell_type": "code",
   "execution_count": null,
   "id": "656f9066",
   "metadata": {},
   "outputs": [],
   "source": [
    "# extract [43,89] from the list 'first'\n",
    "first[3][2]"
   ]
  },
  {
   "cell_type": "code",
   "execution_count": null,
   "id": "c967437d",
   "metadata": {},
   "outputs": [],
   "source": [
    "# extract 89\n",
    "first[3][2][1]"
   ]
  },
  {
   "cell_type": "code",
   "execution_count": null,
   "id": "ade9e3d8",
   "metadata": {},
   "outputs": [],
   "source": [
    "print(dir(first))"
   ]
  },
  {
   "cell_type": "code",
   "execution_count": null,
   "id": "e10665e6",
   "metadata": {},
   "outputs": [],
   "source": [
    "#extend\n",
    "newlist1=[1,2,3]\n",
    "newlist2=[5,6]\n",
    "newlist1.extend(newlist2)"
   ]
  },
  {
   "cell_type": "code",
   "execution_count": null,
   "id": "6c8ca9df",
   "metadata": {},
   "outputs": [],
   "source": [
    "newlist1"
   ]
  },
  {
   "cell_type": "code",
   "execution_count": null,
   "id": "14698a94",
   "metadata": {},
   "outputs": [],
   "source": [
    "# append\n",
    "newlist3=[6,7,8]\n",
    "newlist4=[9,10]\n",
    "newlist3.append(newlist4)"
   ]
  },
  {
   "cell_type": "code",
   "execution_count": null,
   "id": "6b08c8cc",
   "metadata": {},
   "outputs": [],
   "source": [
    "newlist3"
   ]
  },
  {
   "cell_type": "code",
   "execution_count": null,
   "id": "27788664",
   "metadata": {},
   "outputs": [],
   "source": [
    "newlist3+newlist4"
   ]
  },
  {
   "cell_type": "code",
   "execution_count": null,
   "id": "64ef37f9",
   "metadata": {},
   "outputs": [],
   "source": [
    "### insert\n",
    "#syntax: listobject.insert(index,value)\n",
    "newlist3.insert(0,61)\n",
    "newlist3"
   ]
  },
  {
   "cell_type": "code",
   "execution_count": null,
   "id": "180dd055",
   "metadata": {},
   "outputs": [],
   "source": [
    "#pop\n",
    "# listobject.pop(index) \n",
    "# list object.pop()--> removes last element in the list\n",
    "\n",
    "newlist3.pop(1)"
   ]
  },
  {
   "cell_type": "code",
   "execution_count": null,
   "id": "54b4581b",
   "metadata": {},
   "outputs": [],
   "source": [
    "newlist3"
   ]
  },
  {
   "cell_type": "code",
   "execution_count": null,
   "id": "056ba81f",
   "metadata": {
    "scrolled": true
   },
   "outputs": [],
   "source": [
    "newlist3.pop()"
   ]
  },
  {
   "cell_type": "code",
   "execution_count": null,
   "id": "e6eb011c",
   "metadata": {},
   "outputs": [],
   "source": [
    "newlist3"
   ]
  },
  {
   "cell_type": "code",
   "execution_count": null,
   "id": "061feb1f",
   "metadata": {},
   "outputs": [],
   "source": [
    "## remove \n",
    "# syntax: listobject.remove(value)\n",
    "list_1=[1,2,'hi','wel',8]\n",
    "list_1.remove(2)"
   ]
  },
  {
   "cell_type": "code",
   "execution_count": null,
   "id": "48f6bfc4",
   "metadata": {},
   "outputs": [],
   "source": [
    "list_1"
   ]
  },
  {
   "cell_type": "code",
   "execution_count": null,
   "id": "a3b90c02",
   "metadata": {},
   "outputs": [],
   "source": [
    "first=[2,34,5,[56,81,[43,89],67],10,59,57]\n",
    "first"
   ]
  },
  {
   "cell_type": "code",
   "execution_count": null,
   "id": "272e4cc4",
   "metadata": {},
   "outputs": [],
   "source": [
    "#remove elements from the list : remove 81 # del(indexing)\n",
    "del(first[3][1])"
   ]
  },
  {
   "cell_type": "code",
   "execution_count": null,
   "id": "c746ff53",
   "metadata": {},
   "outputs": [],
   "source": [
    "first"
   ]
  },
  {
   "cell_type": "code",
   "execution_count": null,
   "id": "7d6d4678",
   "metadata": {},
   "outputs": [],
   "source": [
    "first[3].remove(67)"
   ]
  },
  {
   "cell_type": "code",
   "execution_count": null,
   "id": "51778415",
   "metadata": {},
   "outputs": [],
   "source": [
    "# remove 43"
   ]
  },
  {
   "cell_type": "code",
   "execution_count": null,
   "id": "2d0935f7",
   "metadata": {},
   "outputs": [],
   "source": [
    "del(first[3][1][0])"
   ]
  },
  {
   "cell_type": "code",
   "execution_count": null,
   "id": "28b61f1b",
   "metadata": {},
   "outputs": [],
   "source": [
    "first"
   ]
  },
  {
   "cell_type": "code",
   "execution_count": null,
   "id": "08b87b53",
   "metadata": {},
   "outputs": [],
   "source": [
    "# reverse\n",
    "# syntax: list object.reverse()\n",
    "list1 = [1, 2, 3, 4, 1, 2, 6]\n",
    "list1.reverse()"
   ]
  },
  {
   "cell_type": "code",
   "execution_count": null,
   "id": "53b63408",
   "metadata": {},
   "outputs": [],
   "source": [
    "list1"
   ]
  },
  {
   "cell_type": "code",
   "execution_count": null,
   "id": "900b4ded",
   "metadata": {},
   "outputs": [],
   "source": [
    "#index: object.index(value)\n",
    "# returns theindex of the element\n",
    "list1.index(4)"
   ]
  },
  {
   "cell_type": "code",
   "execution_count": null,
   "id": "513faa70",
   "metadata": {},
   "outputs": [],
   "source": [
    "### Apply + * on list objects\n",
    "ls1=[12,23,12,45]\n",
    "ls2=[34,6,7,8]\n",
    "print(ls1)\n",
    "print(ls2)"
   ]
  },
  {
   "cell_type": "code",
   "execution_count": null,
   "id": "eb4f0435",
   "metadata": {},
   "outputs": [],
   "source": [
    "ls1+ls2"
   ]
  },
  {
   "cell_type": "code",
   "execution_count": null,
   "id": "648309bc",
   "metadata": {},
   "outputs": [],
   "source": [
    "ls1*4"
   ]
  },
  {
   "cell_type": "code",
   "execution_count": null,
   "id": "c4f15fc3",
   "metadata": {},
   "outputs": [],
   "source": [
    "# sort the list object in ascending order\n",
    "ls6=[12,4,78,2,9,54]"
   ]
  },
  {
   "cell_type": "code",
   "execution_count": null,
   "id": "aaa11aaa",
   "metadata": {},
   "outputs": [],
   "source": [
    "print(dir(ls6))"
   ]
  },
  {
   "cell_type": "code",
   "execution_count": null,
   "id": "958d4903",
   "metadata": {},
   "outputs": [],
   "source": [
    "#sorted()\n",
    "sorted(ls6)"
   ]
  },
  {
   "cell_type": "code",
   "execution_count": null,
   "id": "09927a0a",
   "metadata": {},
   "outputs": [],
   "source": [
    "# descending order # reverse=True\n",
    "sorted(ls6,reverse=True)"
   ]
  },
  {
   "cell_type": "code",
   "execution_count": null,
   "id": "21a9de37",
   "metadata": {},
   "outputs": [],
   "source": [
    "ls6"
   ]
  },
  {
   "cell_type": "code",
   "execution_count": null,
   "id": "7e80cea2",
   "metadata": {},
   "outputs": [],
   "source": [
    "#sort() method"
   ]
  },
  {
   "cell_type": "code",
   "execution_count": null,
   "id": "6db2de15",
   "metadata": {},
   "outputs": [],
   "source": [
    "ls6.sort()"
   ]
  },
  {
   "cell_type": "code",
   "execution_count": null,
   "id": "7b608934",
   "metadata": {},
   "outputs": [],
   "source": [
    "ls6"
   ]
  },
  {
   "cell_type": "code",
   "execution_count": null,
   "id": "3a4702cb",
   "metadata": {},
   "outputs": [],
   "source": [
    "#descending order\n",
    "ls6.sort(reverse=True)\n",
    "ls6"
   ]
  },
  {
   "cell_type": "code",
   "execution_count": null,
   "id": "85ba673d",
   "metadata": {},
   "outputs": [],
   "source": [
    "# Copy one list from the other list (or) creating a list from existing list by using '=' (or) \n",
    "#copy() method\n",
    "ls9=[1,2,5,2,1,3,2,10]\n",
    "#create newlist from ls9."
   ]
  },
  {
   "cell_type": "code",
   "execution_count": null,
   "id": "1b9f771e",
   "metadata": {},
   "outputs": [],
   "source": [
    "ls10=ls9\n",
    "ls11=ls9.copy()\n",
    "print(ls9)\n",
    "print(ls10)\n",
    "print(ls11)"
   ]
  },
  {
   "cell_type": "code",
   "execution_count": null,
   "id": "2cb1c250",
   "metadata": {},
   "outputs": [],
   "source": [
    "# do changes on original object and check whether the copied objects are updated or not\n",
    "ls9[1]=30\n",
    "print(ls9)\n",
    "print(ls10)\n",
    "print(ls11)"
   ]
  },
  {
   "cell_type": "code",
   "execution_count": null,
   "id": "f0af2028",
   "metadata": {},
   "outputs": [],
   "source": [
    "#split method\n",
    "#result will be list object\n",
    "dt=\"6-6-2022\"\n",
    "#split it by '-'\n",
    "dt.split('-')"
   ]
  },
  {
   "cell_type": "code",
   "execution_count": null,
   "id": "2de11eb6",
   "metadata": {},
   "outputs": [],
   "source": [
    "# loop\n",
    "# for loop\n",
    "for i in ls9:\n",
    "    print(i)"
   ]
  },
  {
   "cell_type": "code",
   "execution_count": null,
   "id": "081bc98d",
   "metadata": {},
   "outputs": [],
   "source": [
    "#List comprehension\n",
    "# one line expression of for loop"
   ]
  },
  {
   "cell_type": "code",
   "execution_count": null,
   "id": "11ebb6fb",
   "metadata": {},
   "outputs": [],
   "source": [
    "a=[1,2,3,4]\n",
    "#list of square of elements of a\n",
    "#for loop\n",
    "b=[]\n",
    "for i in a:\n",
    "    b.append(i**2)\n",
    "print(b)"
   ]
  },
  {
   "cell_type": "code",
   "execution_count": null,
   "id": "b41d298d",
   "metadata": {},
   "outputs": [],
   "source": [
    "#list comprehension : syntax: [expression for if]\n",
    "# list of square of elements\n",
    "[i**2 for i in a]"
   ]
  },
  {
   "cell_type": "code",
   "execution_count": null,
   "id": "7902a055",
   "metadata": {},
   "outputs": [],
   "source": [
    "cities=['Delhi','Pune','Chennai','Bangalore','Hyd']\n",
    "# create a list of elements which has length is greater than 6.\n",
    "[i for i in cities if len(i)>6]"
   ]
  },
  {
   "cell_type": "code",
   "execution_count": null,
   "id": "587102a5",
   "metadata": {},
   "outputs": [],
   "source": [
    "L=[4,7,8,9]\n",
    "# Add value 5 to each element in the list\n",
    "[i+5 for i in L]"
   ]
  },
  {
   "cell_type": "code",
   "execution_count": null,
   "id": "74134009",
   "metadata": {},
   "outputs": [],
   "source": [
    "# Create a list of elements which is greater than 5 in the given list L\n",
    "[x for x in L if x>5]"
   ]
  },
  {
   "cell_type": "code",
   "execution_count": null,
   "id": "c1a94998",
   "metadata": {},
   "outputs": [],
   "source": [
    "# Addition of two lists L1 and L2\n",
    "# for loop\n",
    "L1=[3,4,5,6]\n",
    "L2=[1,3,5,8]\n",
    "n=[]\n",
    "for x in range(0,len(L1)):\n",
    "    n.append(L1[x]+L2[x])\n",
    "print(n)"
   ]
  },
  {
   "cell_type": "code",
   "execution_count": null,
   "id": "a71835ec",
   "metadata": {},
   "outputs": [],
   "source": [
    "L1=[3,4,5,6]\n",
    "L2=[1,3,5,8]\n",
    "L3=[]\n",
    "for x,y in zip(L1,L2):\n",
    "    L3.append(x+y)\n",
    "L3"
   ]
  },
  {
   "cell_type": "code",
   "execution_count": null,
   "id": "04ed4b7f",
   "metadata": {},
   "outputs": [],
   "source": [
    "# list comprehension\n",
    "[L1[x] +L2[x] for x in range(len(L1))]"
   ]
  },
  {
   "cell_type": "markdown",
   "id": "68ce9949",
   "metadata": {},
   "source": [
    "### Tuple\n",
    "\n",
    "- A tuple is a sequence of items\n",
    "- tuple is created by using () or tuple()\n",
    "- tuple contains mixed data type\n",
    "- tuples are immutable\n",
    "- tuples are iterable"
   ]
  },
  {
   "cell_type": "code",
   "execution_count": null,
   "id": "79692679",
   "metadata": {},
   "outputs": [],
   "source": [
    "# empty tuple object\n",
    "t1=tuple()\n",
    "#t1=()"
   ]
  },
  {
   "cell_type": "code",
   "execution_count": null,
   "id": "dca221ed",
   "metadata": {},
   "outputs": [],
   "source": [
    "#type\n",
    "type(t1)"
   ]
  },
  {
   "cell_type": "code",
   "execution_count": null,
   "id": "53f28503",
   "metadata": {},
   "outputs": [],
   "source": [
    "#create a tuple with elements\n",
    "t1=(1,'we',True)\n",
    "type(t1)"
   ]
  },
  {
   "cell_type": "code",
   "execution_count": null,
   "id": "fe19c1eb",
   "metadata": {},
   "outputs": [],
   "source": [
    "t3=(23,4,'e','i')\n",
    "t3"
   ]
  },
  {
   "cell_type": "code",
   "execution_count": null,
   "id": "224c83fa",
   "metadata": {},
   "outputs": [],
   "source": [
    "# extract '4' from t3\n",
    "t3[1]"
   ]
  },
  {
   "cell_type": "code",
   "execution_count": null,
   "id": "b5ffc49f",
   "metadata": {},
   "outputs": [],
   "source": [
    "# immutable\n",
    "t3[0]=45"
   ]
  },
  {
   "cell_type": "code",
   "execution_count": null,
   "id": "ed17f488",
   "metadata": {},
   "outputs": [],
   "source": [
    "# convert tuple object into list and do changes."
   ]
  },
  {
   "cell_type": "code",
   "execution_count": null,
   "id": "3232f25a",
   "metadata": {},
   "outputs": [],
   "source": [
    "t4=list(t3)"
   ]
  },
  {
   "cell_type": "code",
   "execution_count": null,
   "id": "0f8d08ab",
   "metadata": {},
   "outputs": [],
   "source": [
    "# change the value 23 into 40\n",
    "t4[0]=40"
   ]
  },
  {
   "cell_type": "code",
   "execution_count": null,
   "id": "51899aff",
   "metadata": {},
   "outputs": [],
   "source": [
    "t4=tuple(t4)"
   ]
  },
  {
   "cell_type": "code",
   "execution_count": null,
   "id": "2d6f4964",
   "metadata": {},
   "outputs": [],
   "source": [
    "t4"
   ]
  },
  {
   "cell_type": "code",
   "execution_count": null,
   "id": "4e887619",
   "metadata": {},
   "outputs": [],
   "source": [
    "#for loop\n",
    "for i in t3:\n",
    "    print(i)"
   ]
  },
  {
   "cell_type": "markdown",
   "id": "64b34e73",
   "metadata": {},
   "source": [
    "### Dictionary\n",
    "- A collection of unordered set of key:value pairs.\n",
    "\n",
    "- Create dictionaries by using {} or dict()\n",
    "\n",
    "- Keys are unique.\n",
    "\n",
    "- values are accessed by using keys, not by index\n",
    "\n",
    "- Dictionaries are mutable.\n",
    "\n",
    "- Dicitonaries are iterables."
   ]
  },
  {
   "cell_type": "code",
   "execution_count": 1,
   "id": "943bd3dc",
   "metadata": {},
   "outputs": [],
   "source": [
    "# empty dict:\n",
    "d1=dict()\n"
   ]
  },
  {
   "cell_type": "code",
   "execution_count": 3,
   "id": "0171d9d2",
   "metadata": {},
   "outputs": [],
   "source": [
    "d1={}"
   ]
  },
  {
   "cell_type": "code",
   "execution_count": 2,
   "id": "648f16e7",
   "metadata": {},
   "outputs": [
    {
     "data": {
      "text/plain": [
       "dict"
      ]
     },
     "execution_count": 2,
     "metadata": {},
     "output_type": "execute_result"
    }
   ],
   "source": [
    "#type\n",
    "type(d1)"
   ]
  },
  {
   "cell_type": "code",
   "execution_count": 4,
   "id": "9e6efeb8",
   "metadata": {},
   "outputs": [
    {
     "data": {
      "text/plain": [
       "{'one': 1, 'two': 3, 'three': 8}"
      ]
     },
     "execution_count": 4,
     "metadata": {},
     "output_type": "execute_result"
    }
   ],
   "source": [
    "# create dict of integer values\n",
    "d1={'one':1,'two':3,'three':8}\n",
    "d1"
   ]
  },
  {
   "cell_type": "code",
   "execution_count": 5,
   "id": "49b3a49d",
   "metadata": {},
   "outputs": [
    {
     "data": {
      "text/plain": [
       "{34: 'hi', 'e': 'come', 'h': 'all'}"
      ]
     },
     "execution_count": 5,
     "metadata": {},
     "output_type": "execute_result"
    }
   ],
   "source": [
    "# create  dict of strings values\n",
    "d2={34:'hi','e':'come','h':'all'}\n",
    "d2"
   ]
  },
  {
   "cell_type": "code",
   "execution_count": 6,
   "id": "bf07a54c",
   "metadata": {},
   "outputs": [
    {
     "data": {
      "text/plain": [
       "{'new1': 'hello', 'new2': 5, 'new3': [7, 8], 'new4': ('the', 87)}"
      ]
     },
     "execution_count": 6,
     "metadata": {},
     "output_type": "execute_result"
    }
   ],
   "source": [
    "# create dict of mixed data types\n",
    "d2_1={'new1':'hello','new2':5,'new3':[7,8],'new4':('the',87)}\n",
    "d2_1"
   ]
  },
  {
   "cell_type": "code",
   "execution_count": 7,
   "id": "84981051",
   "metadata": {},
   "outputs": [
    {
     "data": {
      "text/plain": [
       "{'first': [5, 6, 7],\n",
       " 'second': ['a', 'b'],\n",
       " 'third': (7, 8, 0),\n",
       " 'fourth': 'hello'}"
      ]
     },
     "execution_count": 7,
     "metadata": {},
     "output_type": "execute_result"
    }
   ],
   "source": [
    "d4={'first':[5,6,7],'second':[\"a\",\"b\"],'third':(7,8,0),'fourth':\"hello\"}\n",
    "d4"
   ]
  },
  {
   "cell_type": "code",
   "execution_count": 8,
   "id": "514b4604",
   "metadata": {},
   "outputs": [
    {
     "data": {
      "text/plain": [
       "dict_keys(['first', 'second', 'third', 'fourth'])"
      ]
     },
     "execution_count": 8,
     "metadata": {},
     "output_type": "execute_result"
    }
   ],
   "source": [
    "# keys() & values() method\n",
    "d4.keys()"
   ]
  },
  {
   "cell_type": "code",
   "execution_count": 9,
   "id": "8dd4af6e",
   "metadata": {},
   "outputs": [
    {
     "data": {
      "text/plain": [
       "dict_values([[5, 6, 7], ['a', 'b'], (7, 8, 0), 'hello'])"
      ]
     },
     "execution_count": 9,
     "metadata": {},
     "output_type": "execute_result"
    }
   ],
   "source": [
    "d4.values()"
   ]
  },
  {
   "cell_type": "code",
   "execution_count": 10,
   "id": "5c4ea3dc",
   "metadata": {},
   "outputs": [
    {
     "data": {
      "text/plain": [
       "dict_items([('first', [5, 6, 7]), ('second', ['a', 'b']), ('third', (7, 8, 0)), ('fourth', 'hello')])"
      ]
     },
     "execution_count": 10,
     "metadata": {},
     "output_type": "execute_result"
    }
   ],
   "source": [
    "#items() method\n",
    "d4.items()"
   ]
  },
  {
   "cell_type": "code",
   "execution_count": 11,
   "id": "7226655e",
   "metadata": {},
   "outputs": [
    {
     "data": {
      "text/plain": [
       "[5, 6, 7]"
      ]
     },
     "execution_count": 11,
     "metadata": {},
     "output_type": "execute_result"
    }
   ],
   "source": [
    "#extract [5,6,7] from d4.\n",
    "d4['first']"
   ]
  },
  {
   "cell_type": "code",
   "execution_count": 12,
   "id": "712417d1",
   "metadata": {},
   "outputs": [
    {
     "data": {
      "text/plain": [
       "6"
      ]
     },
     "execution_count": 12,
     "metadata": {},
     "output_type": "execute_result"
    }
   ],
   "source": [
    "#extract 6\n",
    "d4['first'][1]"
   ]
  },
  {
   "cell_type": "code",
   "execution_count": 13,
   "id": "45b22e8c",
   "metadata": {},
   "outputs": [
    {
     "data": {
      "text/plain": [
       "'b'"
      ]
     },
     "execution_count": 13,
     "metadata": {},
     "output_type": "execute_result"
    }
   ],
   "source": [
    "#extract 'b'\n",
    "d4['second'][1]"
   ]
  },
  {
   "cell_type": "code",
   "execution_count": 17,
   "id": "4f754e21",
   "metadata": {},
   "outputs": [
    {
     "data": {
      "text/plain": [
       "'z'"
      ]
     },
     "execution_count": 17,
     "metadata": {},
     "output_type": "execute_result"
    }
   ],
   "source": [
    "d5={'one':{'el_one':[3,4,6,{'el_two':'z'}]}}\n",
    "# extract 'z'\n",
    "d5['one']['el_one'][3]['el_two']"
   ]
  },
  {
   "cell_type": "code",
   "execution_count": 18,
   "id": "46e055bb",
   "metadata": {},
   "outputs": [
    {
     "data": {
      "text/plain": [
       "'merge'"
      ]
     },
     "execution_count": 18,
     "metadata": {},
     "output_type": "execute_result"
    }
   ],
   "source": [
    "d6={'new':[9,4,5,['split','merge',10]],'old':('s',17,0),'mid':{'ram':4,'ravi':8}}\n",
    "#Extract 'merge'\n",
    "#extract 8\n",
    "d6['new'][3][1]"
   ]
  },
  {
   "cell_type": "code",
   "execution_count": 19,
   "id": "6fa0448c",
   "metadata": {},
   "outputs": [
    {
     "data": {
      "text/plain": [
       "8"
      ]
     },
     "execution_count": 19,
     "metadata": {},
     "output_type": "execute_result"
    }
   ],
   "source": [
    "d6['mid']['ravi']"
   ]
  },
  {
   "cell_type": "code",
   "execution_count": 22,
   "id": "bb456050",
   "metadata": {},
   "outputs": [
    {
     "name": "stdout",
     "output_type": "stream",
     "text": [
      "[9, 4, 5, ['split', 'merge', 10]]\n",
      "('s', 17, 0)\n",
      "{'ram': 4, 'ravi': 8}\n"
     ]
    }
   ],
   "source": [
    "# for loop\n",
    "for i in d6:\n",
    "    print(d6[i])"
   ]
  },
  {
   "cell_type": "code",
   "execution_count": 23,
   "id": "d6ac4158",
   "metadata": {},
   "outputs": [
    {
     "data": {
      "text/plain": [
       "{'new': [9, 4, 5, ['split', 'merge', 10]],\n",
       " 'old': ('s', 17, 0),\n",
       " 'mid': {'ram': 4, 'ravi': 8}}"
      ]
     },
     "execution_count": 23,
     "metadata": {},
     "output_type": "execute_result"
    }
   ],
   "source": [
    "d6"
   ]
  },
  {
   "cell_type": "code",
   "execution_count": 24,
   "id": "957948fa",
   "metadata": {},
   "outputs": [
    {
     "data": {
      "text/plain": [
       "{'new': [10, 4, 5, ['split', 'merge', 10]],\n",
       " 'old': ('s', 17, 0),\n",
       " 'mid': {'ram': 4, 'ravi': 8}}"
      ]
     },
     "execution_count": 24,
     "metadata": {},
     "output_type": "execute_result"
    }
   ],
   "source": [
    "#mutable\n",
    "# change the 1st element in the first key in the dictionary d6.\n",
    "d6['new'][0]=10\n",
    "d6"
   ]
  },
  {
   "cell_type": "code",
   "execution_count": 25,
   "id": "a900fbef",
   "metadata": {},
   "outputs": [
    {
     "data": {
      "text/plain": [
       "dict_keys(['new', 'old', 'middle'])"
      ]
     },
     "execution_count": 25,
     "metadata": {},
     "output_type": "execute_result"
    }
   ],
   "source": [
    "# using pop() method to rename the key names in the dictionary\n",
    "d6['middle']=d6.pop('mid')\n",
    "d6.keys()"
   ]
  },
  {
   "cell_type": "code",
   "execution_count": null,
   "id": "c5dc4bc9",
   "metadata": {},
   "outputs": [],
   "source": [
    "?d6.update()   # press shift+tab will show the details about the given method."
   ]
  },
  {
   "cell_type": "code",
   "execution_count": 29,
   "id": "b6394772",
   "metadata": {},
   "outputs": [
    {
     "data": {
      "text/plain": [
       "[4, 9, 16]"
      ]
     },
     "execution_count": 29,
     "metadata": {},
     "output_type": "execute_result"
    }
   ],
   "source": [
    "### map and filter function\n",
    "#square function\n",
    "square1=lambda x:x**2\n",
    "#map function: map square function\n",
    "b=[2,3,4]\n",
    "# map(fun,iterable)\n",
    "map(square1,b)\n",
    "list(map(square1,b))\n",
    "#tuple(map(square1,b))"
   ]
  },
  {
   "cell_type": "code",
   "execution_count": 30,
   "id": "2acff138",
   "metadata": {},
   "outputs": [
    {
     "data": {
      "text/plain": [
       "['food', 'great']"
      ]
     },
     "execution_count": 30,
     "metadata": {},
     "output_type": "execute_result"
    }
   ],
   "source": [
    "# filter function\n",
    "# filter the words from a list that dont start with the letter 's'\n",
    "seq=['soup','salad','food','great']\n",
    "list(filter(lambda x:x[0]!='s',seq)) ## without list, it will returns the generator object."
   ]
  },
  {
   "cell_type": "code",
   "execution_count": null,
   "id": "dbf10068",
   "metadata": {},
   "outputs": [],
   "source": [
    "--------------------------------------------------End--------------------------------------------------------------"
   ]
  }
 ],
 "metadata": {
  "kernelspec": {
   "display_name": "Python 3 (ipykernel)",
   "language": "python",
   "name": "python3"
  },
  "language_info": {
   "codemirror_mode": {
    "name": "ipython",
    "version": 3
   },
   "file_extension": ".py",
   "mimetype": "text/x-python",
   "name": "python",
   "nbconvert_exporter": "python",
   "pygments_lexer": "ipython3",
   "version": "3.9.12"
  }
 },
 "nbformat": 4,
 "nbformat_minor": 5
}
