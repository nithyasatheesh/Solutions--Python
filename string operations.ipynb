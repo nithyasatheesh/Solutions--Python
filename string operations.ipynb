{
 "cells": [
  {
   "cell_type": "markdown",
   "id": "f10429d1",
   "metadata": {},
   "source": [
    "### Strings : operations & slicing"
   ]
  },
  {
   "cell_type": "code",
   "execution_count": null,
   "id": "98b12d01",
   "metadata": {},
   "outputs": [],
   "source": [
    "# Iterable: ability to do index and write for loop on that object"
   ]
  },
  {
   "cell_type": "markdown",
   "id": "dd021f3e",
   "metadata": {},
   "source": [
    "#### indexing & Slicing"
   ]
  },
  {
   "cell_type": "code",
   "execution_count": 1,
   "id": "32f990d4",
   "metadata": {},
   "outputs": [
    {
     "data": {
      "text/plain": [
       "'saturday'"
      ]
     },
     "execution_count": 1,
     "metadata": {},
     "output_type": "execute_result"
    }
   ],
   "source": [
    "new='saturday'\n",
    "new"
   ]
  },
  {
   "cell_type": "code",
   "execution_count": 2,
   "id": "68f70ef8",
   "metadata": {},
   "outputs": [
    {
     "data": {
      "text/plain": [
       "'t'"
      ]
     },
     "execution_count": 2,
     "metadata": {},
     "output_type": "execute_result"
    }
   ],
   "source": [
    "# extract 't' --> new\n",
    "# Python index starts from 0.\n",
    "new[2]"
   ]
  },
  {
   "cell_type": "code",
   "execution_count": null,
   "id": "9d742765",
   "metadata": {},
   "outputs": [],
   "source": [
    "?new.index()"
   ]
  },
  {
   "cell_type": "code",
   "execution_count": 3,
   "id": "10034d4c",
   "metadata": {
    "collapsed": true
   },
   "outputs": [
    {
     "name": "stdout",
     "output_type": "stream",
     "text": [
      "['__add__', '__class__', '__contains__', '__delattr__', '__dir__', '__doc__', '__eq__', '__format__', '__ge__', '__getattribute__', '__getitem__', '__getnewargs__', '__gt__', '__hash__', '__init__', '__init_subclass__', '__iter__', '__le__', '__len__', '__lt__', '__mod__', '__mul__', '__ne__', '__new__', '__reduce__', '__reduce_ex__', '__repr__', '__rmod__', '__rmul__', '__setattr__', '__sizeof__', '__str__', '__subclasshook__', 'capitalize', 'casefold', 'center', 'count', 'encode', 'endswith', 'expandtabs', 'find', 'format', 'format_map', 'index', 'isalnum', 'isalpha', 'isascii', 'isdecimal', 'isdigit', 'isidentifier', 'islower', 'isnumeric', 'isprintable', 'isspace', 'istitle', 'isupper', 'join', 'ljust', 'lower', 'lstrip', 'maketrans', 'partition', 'removeprefix', 'removesuffix', 'replace', 'rfind', 'rindex', 'rjust', 'rpartition', 'rsplit', 'rstrip', 'split', 'splitlines', 'startswith', 'strip', 'swapcase', 'title', 'translate', 'upper', 'zfill']\n"
     ]
    }
   ],
   "source": [
    "print(dir(new))"
   ]
  },
  {
   "cell_type": "code",
   "execution_count": 4,
   "id": "ac370f30",
   "metadata": {},
   "outputs": [
    {
     "data": {
      "text/plain": [
       "'u'"
      ]
     },
     "execution_count": 4,
     "metadata": {},
     "output_type": "execute_result"
    }
   ],
   "source": [
    "# extract 'u'\n",
    "new[3]"
   ]
  },
  {
   "cell_type": "code",
   "execution_count": 5,
   "id": "55a06f81",
   "metadata": {},
   "outputs": [
    {
     "data": {
      "text/plain": [
       "'urda'"
      ]
     },
     "execution_count": 5,
     "metadata": {},
     "output_type": "execute_result"
    }
   ],
   "source": [
    "# extract 'u' to 'a'\n",
    "  # [start:end]end is exclusive\n",
    "new[3:7]"
   ]
  },
  {
   "cell_type": "code",
   "execution_count": 6,
   "id": "b8916ba5",
   "metadata": {},
   "outputs": [
    {
     "data": {
      "text/plain": [
       "'satu'"
      ]
     },
     "execution_count": 6,
     "metadata": {},
     "output_type": "execute_result"
    }
   ],
   "source": [
    "# Extract 0 to 3rd index elements using :\n",
    "# starts at 0 end with 3rd index\n",
    "new[0:4]\n",
    "# new[:4]"
   ]
  },
  {
   "cell_type": "code",
   "execution_count": 7,
   "id": "ef5e5436",
   "metadata": {},
   "outputs": [
    {
     "data": {
      "text/plain": [
       "'saturday'"
      ]
     },
     "execution_count": 7,
     "metadata": {},
     "output_type": "execute_result"
    }
   ],
   "source": [
    "# display all the elements using :\n",
    "new[:]"
   ]
  },
  {
   "cell_type": "code",
   "execution_count": null,
   "id": "89c1f7eb",
   "metadata": {},
   "outputs": [],
   "source": [
    "# negative indexing"
   ]
  },
  {
   "cell_type": "code",
   "execution_count": 8,
   "id": "0a49ca75",
   "metadata": {},
   "outputs": [
    {
     "data": {
      "text/plain": [
       "'y'"
      ]
     },
     "execution_count": 8,
     "metadata": {},
     "output_type": "execute_result"
    }
   ],
   "source": [
    "new[-1] # returns last element"
   ]
  },
  {
   "cell_type": "code",
   "execution_count": null,
   "id": "f734152b",
   "metadata": {},
   "outputs": [],
   "source": [
    "# Extract odd posiiton elements\n",
    "# [start:end:step]"
   ]
  },
  {
   "cell_type": "code",
   "execution_count": 9,
   "id": "1228f8cc",
   "metadata": {},
   "outputs": [
    {
     "data": {
      "text/plain": [
       "'stra'"
      ]
     },
     "execution_count": 9,
     "metadata": {},
     "output_type": "execute_result"
    }
   ],
   "source": [
    "new[::2]"
   ]
  },
  {
   "cell_type": "code",
   "execution_count": 10,
   "id": "33e25b34",
   "metadata": {},
   "outputs": [
    {
     "data": {
      "text/plain": [
       "'aud'"
      ]
     },
     "execution_count": 10,
     "metadata": {},
     "output_type": "execute_result"
    }
   ],
   "source": [
    "new[1:6:2]"
   ]
  },
  {
   "cell_type": "code",
   "execution_count": 11,
   "id": "ad2873ce",
   "metadata": {},
   "outputs": [
    {
     "data": {
      "text/plain": [
       "'ydua'"
      ]
     },
     "execution_count": 11,
     "metadata": {},
     "output_type": "execute_result"
    }
   ],
   "source": [
    "# # Extract odd posiiton elements in the reverse order\n",
    "new[::-2]"
   ]
  },
  {
   "cell_type": "code",
   "execution_count": 12,
   "id": "8e5340d4",
   "metadata": {},
   "outputs": [],
   "source": [
    "# strings are immutable\n",
    "# Cannot do changes on a created string object.\n",
    "first=\"welcome\"\n",
    "second=\"to the country\""
   ]
  },
  {
   "cell_type": "code",
   "execution_count": 13,
   "id": "195d4dc9",
   "metadata": {},
   "outputs": [
    {
     "ename": "TypeError",
     "evalue": "'str' object does not support item assignment",
     "output_type": "error",
     "traceback": [
      "\u001b[1;31m---------------------------------------------------------------------------\u001b[0m",
      "\u001b[1;31mTypeError\u001b[0m                                 Traceback (most recent call last)",
      "Input \u001b[1;32mIn [13]\u001b[0m, in \u001b[0;36m<cell line: 2>\u001b[1;34m()\u001b[0m\n\u001b[0;32m      1\u001b[0m \u001b[38;5;66;03m# change first letter 'w' into 'S'\u001b[39;00m\n\u001b[1;32m----> 2\u001b[0m first[\u001b[38;5;241m0\u001b[39m]\u001b[38;5;241m=\u001b[39m\u001b[38;5;124m\"\u001b[39m\u001b[38;5;124mS\u001b[39m\u001b[38;5;124m\"\u001b[39m\n",
      "\u001b[1;31mTypeError\u001b[0m: 'str' object does not support item assignment"
     ]
    }
   ],
   "source": [
    "# change first letter 'w' into 'S'\n",
    "first[0]=\"S\""
   ]
  },
  {
   "cell_type": "code",
   "execution_count": 14,
   "id": "de96e2f1",
   "metadata": {},
   "outputs": [
    {
     "data": {
      "text/plain": [
       "'wel'"
      ]
     },
     "execution_count": 14,
     "metadata": {},
     "output_type": "execute_result"
    }
   ],
   "source": [
    "first[0:3]"
   ]
  },
  {
   "cell_type": "code",
   "execution_count": 15,
   "id": "77a7a014",
   "metadata": {},
   "outputs": [
    {
     "data": {
      "text/plain": [
       "'ome'"
      ]
     },
     "execution_count": 15,
     "metadata": {},
     "output_type": "execute_result"
    }
   ],
   "source": [
    "first[4:]"
   ]
  },
  {
   "cell_type": "code",
   "execution_count": 16,
   "id": "d3c9785d",
   "metadata": {},
   "outputs": [
    {
     "data": {
      "text/plain": [
       "'welSome'"
      ]
     },
     "execution_count": 16,
     "metadata": {},
     "output_type": "execute_result"
    }
   ],
   "source": [
    "# change 3rd position(index 4) element in the 'first' string object using '+'\n",
    "# change 'c' into 'S'\n",
    "first[0:3]+'S'+first[4:]"
   ]
  },
  {
   "cell_type": "code",
   "execution_count": null,
   "id": "55cbef01",
   "metadata": {},
   "outputs": [],
   "source": []
  },
  {
   "cell_type": "code",
   "execution_count": 17,
   "id": "58495f2e",
   "metadata": {},
   "outputs": [
    {
     "data": {
      "text/plain": [
       "'to the country7'"
      ]
     },
     "execution_count": 17,
     "metadata": {},
     "output_type": "execute_result"
    }
   ],
   "source": [
    "#add value 7 to the string object 'second'\n",
    "second+\"7\""
   ]
  },
  {
   "cell_type": "code",
   "execution_count": 19,
   "id": "97a7f4a9",
   "metadata": {},
   "outputs": [
    {
     "data": {
      "text/plain": [
       "'to '"
      ]
     },
     "execution_count": 19,
     "metadata": {},
     "output_type": "execute_result"
    }
   ],
   "source": [
    "second[:3]"
   ]
  },
  {
   "cell_type": "code",
   "execution_count": 20,
   "id": "e384396b",
   "metadata": {},
   "outputs": [
    {
     "data": {
      "text/plain": [
       "'to 6the country'"
      ]
     },
     "execution_count": 20,
     "metadata": {},
     "output_type": "execute_result"
    }
   ],
   "source": [
    "# add value 6 to the string object 'second ' at 4th position (index 3)\n",
    "second[0:3]+'6'+second[3:]"
   ]
  },
  {
   "cell_type": "code",
   "execution_count": 21,
   "id": "5b43f165",
   "metadata": {},
   "outputs": [
    {
     "data": {
      "text/plain": [
       "'welcomewelcomewelcome'"
      ]
     },
     "execution_count": 21,
     "metadata": {},
     "output_type": "execute_result"
    }
   ],
   "source": [
    "# display the element of 'first' object 3 times\n",
    "first*3"
   ]
  },
  {
   "cell_type": "code",
   "execution_count": null,
   "id": "6d0bc282",
   "metadata": {},
   "outputs": [],
   "source": [
    "# Add two string objects using '+'"
   ]
  },
  {
   "cell_type": "code",
   "execution_count": 22,
   "id": "930c4aef",
   "metadata": {},
   "outputs": [
    {
     "data": {
      "text/plain": [
       "'welcome to the country'"
      ]
     },
     "execution_count": 22,
     "metadata": {},
     "output_type": "execute_result"
    }
   ],
   "source": [
    "first+' ' +second"
   ]
  },
  {
   "cell_type": "code",
   "execution_count": null,
   "id": "2d00a0fe",
   "metadata": {},
   "outputs": [],
   "source": []
  },
  {
   "cell_type": "code",
   "execution_count": null,
   "id": "b491f921",
   "metadata": {},
   "outputs": [],
   "source": []
  },
  {
   "cell_type": "code",
   "execution_count": null,
   "id": "78f8c4b5",
   "metadata": {},
   "outputs": [],
   "source": [
    "### Hands -on-Exercise"
   ]
  },
  {
   "cell_type": "code",
   "execution_count": 23,
   "id": "ae349455",
   "metadata": {},
   "outputs": [],
   "source": [
    "# create a string object str1=\"Welcome to our country\"\n",
    "str1=\"Welcome to our country\""
   ]
  },
  {
   "cell_type": "code",
   "execution_count": 24,
   "id": "84cc8037",
   "metadata": {},
   "outputs": [
    {
     "data": {
      "text/plain": [
       "'country'"
      ]
     },
     "execution_count": 24,
     "metadata": {},
     "output_type": "execute_result"
    }
   ],
   "source": [
    "# Extract the word 'country' from the given string 'str1'\n",
    "str1[15:]"
   ]
  },
  {
   "cell_type": "code",
   "execution_count": 25,
   "id": "432a3013",
   "metadata": {},
   "outputs": [
    {
     "data": {
      "text/plain": [
       "'Wloet u onr'"
      ]
     },
     "execution_count": 25,
     "metadata": {},
     "output_type": "execute_result"
    }
   ],
   "source": [
    "# Extract the even index elements in the string 'str1'\n",
    "str1[::2]"
   ]
  },
  {
   "cell_type": "code",
   "execution_count": 26,
   "id": "8aac4700",
   "metadata": {},
   "outputs": [
    {
     "data": {
      "text/plain": [
       "'Wel6come to our country'"
      ]
     },
     "execution_count": 26,
     "metadata": {},
     "output_type": "execute_result"
    }
   ],
   "source": [
    "# add value 6 in the 3rd index of the string object str1\n",
    "str1[:3]+'6'+str1[3:]"
   ]
  },
  {
   "cell_type": "code",
   "execution_count": null,
   "id": "f674c97e",
   "metadata": {},
   "outputs": [],
   "source": [
    "-------------------------------------------------- End ----------------------------------------------------------"
   ]
  }
 ],
 "metadata": {
  "kernelspec": {
   "display_name": "Python 3 (ipykernel)",
   "language": "python",
   "name": "python3"
  },
  "language_info": {
   "codemirror_mode": {
    "name": "ipython",
    "version": 3
   },
   "file_extension": ".py",
   "mimetype": "text/x-python",
   "name": "python",
   "nbconvert_exporter": "python",
   "pygments_lexer": "ipython3",
   "version": "3.9.12"
  }
 },
 "nbformat": 4,
 "nbformat_minor": 5
}
